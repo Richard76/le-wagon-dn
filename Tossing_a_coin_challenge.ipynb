{
  "cells": [
    {
      "cell_type": "markdown",
      "metadata": {
        "id": "view-in-github",
        "colab_type": "text"
      },
      "source": [
        "<a href=\"https://colab.research.google.com/github/Richard76/le-wagon-dn/blob/main/Tossing_a_coin_challenge.ipynb\" target=\"_parent\"><img src=\"https://colab.research.google.com/assets/colab-badge.svg\" alt=\"Open In Colab\"/></a>"
      ]
    },
    {
      "cell_type": "code",
      "execution_count": null,
      "id": "2079b203",
      "metadata": {
        "id": "2079b203"
      },
      "outputs": [],
      "source": [
        "import numpy as np\n",
        "import matplotlib.pyplot as plt"
      ]
    },
    {
      "cell_type": "markdown",
      "id": "23918ee7",
      "metadata": {
        "id": "23918ee7"
      },
      "source": [
        "## Toss a coin"
      ]
    },
    {
      "cell_type": "markdown",
      "id": "1459718f",
      "metadata": {
        "id": "1459718f"
      },
      "source": [
        "Tossing coins is a good way for us to understand the idea of random experiments tending towards their expected mean - and how to tell when they are not (an unfair coin)."
      ]
    },
    {
      "cell_type": "markdown",
      "id": "34b2361e",
      "metadata": {
        "id": "34b2361e"
      },
      "source": [
        "Your first task is to toss a coin! There are a bunch of ways you could do that in Python, so we'll let you figure this one out. We'll give you two hints:\n",
        "\n",
        "- The function has to come from the **numpy** library\n",
        "- You need to be able to adjust the number of outcomes (for example, you should be able to use it to roll a dice too)\n",
        "\n",
        "How will you go about this?"
      ]
    },
    {
      "cell_type": "code",
      "source": [
        "# Toss a coin here\n"
      ],
      "metadata": {
        "id": "qlbOx2kpCHx8"
      },
      "id": "qlbOx2kpCHx8",
      "execution_count": null,
      "outputs": []
    },
    {
      "cell_type": "markdown",
      "id": "3388f134",
      "metadata": {
        "id": "3388f134"
      },
      "source": [
        "## Discrete variables"
      ]
    },
    {
      "cell_type": "markdown",
      "id": "b933cea0",
      "metadata": {
        "id": "b933cea0"
      },
      "source": [
        "You just tossed your first digital coin!\n",
        "\n",
        "Being able to simulate a coin toss might seem trivial, but it is in fact a very useful example. Anything we observe and record in life can be seen as **a random experiment**, or a coin toss.\n",
        "\n",
        "Some of them will be just like the coin toss - with **a binary outcome**:\n",
        "\n",
        "- Customers converting to the premium subscription (they either convert or they don't)\n",
        "- Customers churning\n",
        "\n",
        "Others will have **more than two outcomes**, but they will all still be clearly defined:\n",
        "\n",
        "- The color of a product that your customers choose\n",
        "- What type of delivery service customers choose at checkout\n",
        "\n",
        "We call this type of variables discrete - the **sample space** (or the possible outcomes) of the experiment are **categorical and clearly defined**.\n",
        "\n",
        "Try to think of some more examples and counter examples to practice your understanding of **discrete variables**."
      ]
    },
    {
      "cell_type": "markdown",
      "id": "520f3947",
      "metadata": {
        "id": "520f3947"
      },
      "source": [
        "## Tossing more than one coin"
      ]
    },
    {
      "cell_type": "markdown",
      "id": "cd5c56b1",
      "metadata": {
        "id": "cd5c56b1"
      },
      "source": [
        "Well done on your first coin toss. Now, use the same function to toss **the same fair coin 10 times**. How many times do you expect to get heads?"
      ]
    },
    {
      "cell_type": "code",
      "execution_count": null,
      "id": "1f6e3cde",
      "metadata": {
        "id": "1f6e3cde"
      },
      "outputs": [],
      "source": [
        "# Toss the same coin 10 times\n"
      ]
    },
    {
      "cell_type": "code",
      "source": [
        "# Count heads (zeros)"
      ],
      "metadata": {
        "id": "20D8g_mhE3Y1"
      },
      "id": "20D8g_mhE3Y1",
      "execution_count": null,
      "outputs": []
    },
    {
      "cell_type": "markdown",
      "id": "631a061d",
      "metadata": {
        "id": "631a061d"
      },
      "source": [
        "If the result of your coin tosses was 5 heads, congrats! Your experiment matched your **expectations**!\n",
        "If not, you just experienced the difference between observed and **expected results**.\n",
        "\n",
        "Dreaded terminology alert (watch StatsQuest to get that reference):\n",
        "\n",
        "- The **expected value** is the theoretical outcome of an experiment. Let's stick with coin tosses - if I toss a coin 10 times, I **expect** to get 5 heads. Whether or not I will get 5 heads every time I toss a coin 10 times is a matter of chance, but I **expect** to get 5 heads."
      ]
    },
    {
      "cell_type": "markdown",
      "id": "1154c1d3",
      "metadata": {
        "id": "1154c1d3"
      },
      "source": [
        "Toss 10 coins 10 times each now, to see if over many tosses, your results get closer to the **expected value** of 5 heads for every 10 tosses. You need to look for a different function!"
      ]
    },
    {
      "cell_type": "code",
      "execution_count": null,
      "id": "0d85a131",
      "metadata": {
        "scrolled": true,
        "id": "0d85a131"
      },
      "outputs": [],
      "source": [
        "# Toss 10 coins 10 times each\n"
      ]
    },
    {
      "cell_type": "markdown",
      "source": [
        "**Hint**: check the [np.random.binomial](https://numpy.org/doc/stable/reference/random/generated/numpy.random.binomial.html) documentation."
      ],
      "metadata": {
        "id": "Fuhcaf3EIUIy"
      },
      "id": "Fuhcaf3EIUIy"
    },
    {
      "cell_type": "markdown",
      "id": "adca76a9",
      "metadata": {
        "id": "adca76a9"
      },
      "source": [
        "**More!** Toss 100 coins 10 times each!"
      ]
    },
    {
      "cell_type": "code",
      "execution_count": null,
      "id": "eb5cd2b3",
      "metadata": {
        "id": "eb5cd2b3"
      },
      "outputs": [],
      "source": [
        "# Toss 100 coins 10 times each\n"
      ]
    },
    {
      "cell_type": "markdown",
      "id": "b6ffab88",
      "metadata": {
        "id": "b6ffab88"
      },
      "source": [
        "Nice! Are your results getting closer to the **expected value**?\n",
        "\n",
        "It's a bit hard to tell right? What if we looked at the **mean number of heads per 10 tosses over 100 trials**?"
      ]
    },
    {
      "cell_type": "code",
      "execution_count": null,
      "id": "06060ff2",
      "metadata": {
        "id": "06060ff2"
      },
      "outputs": [],
      "source": [
        "# Calculate the mean number of heads after tossing 100 coins 10 times each\n"
      ]
    },
    {
      "cell_type": "markdown",
      "id": "f4a9a9d7",
      "metadata": {
        "id": "f4a9a9d7"
      },
      "source": [
        "What about **10 tosses over 1000 trials**?"
      ]
    },
    {
      "cell_type": "code",
      "execution_count": null,
      "id": "89ced579",
      "metadata": {
        "id": "89ced579"
      },
      "outputs": [],
      "source": [
        "# Calculate the mean number of heads after tossing 100 coins 10 times each\n"
      ]
    },
    {
      "cell_type": "markdown",
      "id": "d1b0b05e",
      "metadata": {
        "id": "d1b0b05e"
      },
      "source": [
        "## The Law of Large Numbers"
      ]
    },
    {
      "cell_type": "markdown",
      "id": "85b0c5d6",
      "metadata": {
        "id": "85b0c5d6"
      },
      "source": [
        "Big **eureka** moment right here! You just experienced the **Law of Large Numbers**. Oh, what the ancient mathematicians would have given to be able to do random experiments so quickly and so efficiently!\n",
        "\n",
        "What does the **Law of Large Numbers** tell us?\n",
        "\n",
        "Simply and intuitively - as you increase the number of **trials** (the number of coins you toss), the mean observed value will get closer and closer to the **expected value**."
      ]
    },
    {
      "cell_type": "markdown",
      "id": "4e760ef5",
      "metadata": {
        "id": "4e760ef5"
      },
      "source": [
        "## We need visual confirmation"
      ]
    },
    {
      "cell_type": "markdown",
      "id": "430f646d",
      "metadata": {
        "id": "430f646d"
      },
      "source": [
        "Assign the number of trials, the expected value and the fairness of the coin to variables to make it easier to play with them."
      ]
    },
    {
      "cell_type": "code",
      "execution_count": null,
      "id": "a1813734",
      "metadata": {
        "id": "a1813734"
      },
      "outputs": [],
      "source": [
        "number_of_trials #assign value\n",
        "expected_value #assign value\n",
        "probability #assign value"
      ]
    },
    {
      "cell_type": "markdown",
      "id": "44044043",
      "metadata": {
        "id": "44044043"
      },
      "source": [
        "Now run your coin toss experiment (10 tosses) for every whole number from 1 to the `number_of_trials` variable you have just defined. Store your results in a list.\n",
        "\n",
        "**Hint**: check the [np.arrange](https://numpy.org/doc/stable/reference/generated/numpy.arange.html) documentation"
      ]
    },
    {
      "cell_type": "code",
      "execution_count": null,
      "id": "a011f246",
      "metadata": {
        "id": "a011f246"
      },
      "outputs": [],
      "source": []
    },
    {
      "cell_type": "markdown",
      "id": "cb27dfa1",
      "metadata": {
        "id": "cb27dfa1"
      },
      "source": [
        "It's time to reactivate your plotting muscles.\n",
        "\n",
        "On the same line graph, plot the following:\n",
        "\n",
        "- The average number of heads per 10 tosses as you increase the number of trials (in blue)\n",
        "- The expected number of heads per 10 tosses (in red) - this should be a horizontal line"
      ]
    },
    {
      "cell_type": "code",
      "execution_count": null,
      "id": "e996bd2a",
      "metadata": {
        "id": "e996bd2a"
      },
      "outputs": [],
      "source": []
    },
    {
      "cell_type": "markdown",
      "id": "174566fb",
      "metadata": {
        "id": "174566fb"
      },
      "source": [
        "If you did this right, you should be able to see how as you increase the number of trials, the observed (empirical) means mirror the expected (theoretical) mean more and more."
      ]
    },
    {
      "cell_type": "markdown",
      "id": "7a4dcde6",
      "metadata": {
        "id": "7a4dcde6"
      },
      "source": [
        "Let's now wrap it in one function so we can reuse it in our later code if we need to. Create a fuction `def toss_10_coins` that takes 3 arguments. This function should refactor all the steps from creating `trials`, `results` and your plot."
      ]
    },
    {
      "cell_type": "code",
      "execution_count": null,
      "id": "6e218611",
      "metadata": {
        "id": "6e218611"
      },
      "outputs": [],
      "source": []
    },
    {
      "cell_type": "code",
      "execution_count": null,
      "id": "d764a409",
      "metadata": {
        "scrolled": true,
        "id": "d764a409"
      },
      "outputs": [],
      "source": [
        "toss_10_coins(1000, 5, 0.5)"
      ]
    },
    {
      "cell_type": "markdown",
      "id": "0e0a2bb6",
      "metadata": {
        "id": "0e0a2bb6"
      },
      "source": [
        "## Let's make it unfair"
      ]
    },
    {
      "cell_type": "markdown",
      "id": "e5d75d26",
      "metadata": {
        "id": "e5d75d26"
      },
      "source": [
        "Until now, every experiment has been done with a fair coin. However, the random experiments of life are rarely fair and we do not usually know their expected value.\n",
        "\n",
        "Run your function with a probability of 0.51, while keeping the expected value at 5. At what point can you tell that the coin is ever so slightly unbalanced?"
      ]
    },
    {
      "cell_type": "code",
      "execution_count": null,
      "id": "b6476694",
      "metadata": {
        "id": "b6476694"
      },
      "outputs": [],
      "source": [
        "toss_10_coins(1000, 5, 0.51)"
      ]
    },
    {
      "cell_type": "markdown",
      "source": [
        "## Learnings\n",
        "\n",
        "We saw how an experiment will tend to it's theoretical, expected value as we increase the number of trials. This will prove very useful later, when we look at real life scenarios and AB testing and we understand that having more data will allow us to draw sounder conclusions."
      ],
      "metadata": {
        "id": "JN5UF1utEPCT"
      },
      "id": "JN5UF1utEPCT"
    }
  ],
  "metadata": {
    "kernelspec": {
      "display_name": "Python 3 (ipykernel)",
      "language": "python",
      "name": "python3"
    },
    "language_info": {
      "codemirror_mode": {
        "name": "ipython",
        "version": 3
      },
      "file_extension": ".py",
      "mimetype": "text/x-python",
      "name": "python",
      "nbconvert_exporter": "python",
      "pygments_lexer": "ipython3",
      "version": "3.8.12"
    },
    "colab": {
      "provenance": [],
      "include_colab_link": true
    }
  },
  "nbformat": 4,
  "nbformat_minor": 5
}