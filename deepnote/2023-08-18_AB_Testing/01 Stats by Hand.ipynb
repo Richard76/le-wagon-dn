{
  "cells": [
    {
      "cell_type": "code",
      "source": "",
      "metadata": {
        "source_hash": "b623e53d",
        "execution_start": 1692447453760,
        "execution_millis": 8,
        "deepnote_app_coordinates": {
          "h": 5,
          "w": 12,
          "x": 0,
          "y": 0
        },
        "deepnote_to_be_reexecuted": false,
        "cell_id": "f9bdbfcb4be940dfa2291ea38d3ed971",
        "deepnote_cell_type": "code"
      },
      "outputs": [],
      "execution_count": 1,
      "block_group": "f9bdbfcb4be940dfa2291ea38d3ed971"
    },
    {
      "cell_type": "code",
      "source": "orders_df = _deepnote_execute_sql('SELECT * FROM `2023_08_18`.`gwz_orders` LIMIT 10000', 'SQL_0CE49970_5FB0_460E_8EAE_E2B74799AEC7', audit_sql_comment='', sql_cache_mode='cache_disabled')\norders_df",
      "metadata": {
        "source_hash": "9b402bfb",
        "execution_start": 1692447453802,
        "execution_millis": 4770,
        "sql_integration_id": "0ce49970-5fb0-460e-8eae-e2b74799aec7",
        "deepnote_variable_name": "orders_df",
        "deepnote_app_coordinates": {
          "h": 5,
          "w": 12,
          "x": 0,
          "y": 0
        },
        "deepnote_to_be_reexecuted": false,
        "cell_id": "60a5e7b5635945c888cb6dfe4547a7f5",
        "deepnote_cell_type": "sql",
        "deepnote_sql_source": "SELECT * FROM `2023_08_18`.`gwz_orders` LIMIT 10000"
      },
      "outputs": [
        {
          "data": {
            "application/vnd.deepnote.sql-output-metadata+json": {
              "status": "success_no_cache",
              "size_in_bytes": 1939778
            }
          },
          "metadata": {},
          "output_type": "display_data"
        },
        {
          "output_type": "execute_result",
          "execution_count": 1,
          "data": {
            "application/vnd.deepnote.dataframe.v3+json": {
              "column_count": 7,
              "row_count": 10000,
              "columns": [
                {
                  "name": "date_date",
                  "dtype": "object",
                  "stats": {
                    "unique_count": 1092,
                    "nan_count": 0,
                    "categories": [
                      {
                        "name": "2020-03-16",
                        "count": 64
                      },
                      {
                        "name": "2021-11-28",
                        "count": 39
                      },
                      {
                        "name": "1090 others",
                        "count": 9897
                      }
                    ]
                  }
                },
                {
                  "name": "orders_id",
                  "dtype": "int64",
                  "stats": {
                    "unique_count": 10000,
                    "nan_count": 0,
                    "min": "29",
                    "max": "1092229",
                    "histogram": [
                      {
                        "bin_start": 29,
                        "bin_end": 109249,
                        "count": 959
                      },
                      {
                        "bin_start": 109249,
                        "bin_end": 218469,
                        "count": 807
                      },
                      {
                        "bin_start": 218469,
                        "bin_end": 327689,
                        "count": 743
                      },
                      {
                        "bin_start": 327689,
                        "bin_end": 436909,
                        "count": 1395
                      },
                      {
                        "bin_start": 436909,
                        "bin_end": 546129,
                        "count": 1039
                      },
                      {
                        "bin_start": 546129,
                        "bin_end": 655349,
                        "count": 1064
                      },
                      {
                        "bin_start": 655349,
                        "bin_end": 764569,
                        "count": 940
                      },
                      {
                        "bin_start": 764569,
                        "bin_end": 873789,
                        "count": 933
                      },
                      {
                        "bin_start": 873789,
                        "bin_end": 983009,
                        "count": 1039
                      },
                      {
                        "bin_start": 983009,
                        "bin_end": 1092229,
                        "count": 1081
                      }
                    ]
                  }
                },
                {
                  "name": "customers_id",
                  "dtype": "int64",
                  "stats": {
                    "unique_count": 7062,
                    "nan_count": 0,
                    "min": "28",
                    "max": "336044",
                    "histogram": [
                      {
                        "bin_start": 28,
                        "bin_end": 33629.6,
                        "count": 3647
                      },
                      {
                        "bin_start": 33629.6,
                        "bin_end": 67231.2,
                        "count": 1511
                      },
                      {
                        "bin_start": 67231.2,
                        "bin_end": 100832.79999999999,
                        "count": 1001
                      },
                      {
                        "bin_start": 100832.79999999999,
                        "bin_end": 134434.4,
                        "count": 769
                      },
                      {
                        "bin_start": 134434.4,
                        "bin_end": 168036,
                        "count": 945
                      },
                      {
                        "bin_start": 168036,
                        "bin_end": 201637.59999999998,
                        "count": 949
                      },
                      {
                        "bin_start": 201637.59999999998,
                        "bin_end": 235239.19999999998,
                        "count": 512
                      },
                      {
                        "bin_start": 235239.19999999998,
                        "bin_end": 268840.8,
                        "count": 320
                      },
                      {
                        "bin_start": 268840.8,
                        "bin_end": 302442.39999999997,
                        "count": 233
                      },
                      {
                        "bin_start": 302442.39999999997,
                        "bin_end": 336044,
                        "count": 113
                      }
                    ]
                  }
                },
                {
                  "name": "country",
                  "dtype": "object",
                  "stats": {
                    "unique_count": 1,
                    "nan_count": 0,
                    "categories": [
                      {
                        "name": "FRANCE",
                        "count": 10000
                      }
                    ]
                  }
                },
                {
                  "name": "department",
                  "dtype": "object",
                  "stats": {
                    "unique_count": 96,
                    "nan_count": 10,
                    "categories": [
                      {
                        "name": "75",
                        "count": 621
                      },
                      {
                        "name": "95 others",
                        "count": 9369
                      },
                      {
                        "name": "Missing",
                        "count": 10
                      }
                    ]
                  }
                },
                {
                  "name": "total_quantity",
                  "dtype": "int64",
                  "stats": {
                    "unique_count": 154,
                    "nan_count": 0,
                    "min": "34",
                    "max": "1260",
                    "histogram": [
                      {
                        "bin_start": 34,
                        "bin_end": 156.6,
                        "count": 9955
                      },
                      {
                        "bin_start": 156.6,
                        "bin_end": 279.2,
                        "count": 28
                      },
                      {
                        "bin_start": 279.2,
                        "bin_end": 401.79999999999995,
                        "count": 12
                      },
                      {
                        "bin_start": 401.79999999999995,
                        "bin_end": 524.4,
                        "count": 3
                      },
                      {
                        "bin_start": 524.4,
                        "bin_end": 647,
                        "count": 0
                      },
                      {
                        "bin_start": 647,
                        "bin_end": 769.5999999999999,
                        "count": 1
                      },
                      {
                        "bin_start": 769.5999999999999,
                        "bin_end": 892.1999999999999,
                        "count": 0
                      },
                      {
                        "bin_start": 892.1999999999999,
                        "bin_end": 1014.8,
                        "count": 0
                      },
                      {
                        "bin_start": 1014.8,
                        "bin_end": 1137.3999999999999,
                        "count": 0
                      },
                      {
                        "bin_start": 1137.3999999999999,
                        "bin_end": 1260,
                        "count": 1
                      }
                    ]
                  }
                },
                {
                  "name": "total_turnover",
                  "dtype": "float64",
                  "stats": {
                    "unique_count": 9044,
                    "nan_count": 0,
                    "min": "0.0",
                    "max": "3833.9700000000003",
                    "histogram": [
                      {
                        "bin_start": 0,
                        "bin_end": 383.39700000000005,
                        "count": 9779
                      },
                      {
                        "bin_start": 383.39700000000005,
                        "bin_end": 766.7940000000001,
                        "count": 188
                      },
                      {
                        "bin_start": 766.7940000000001,
                        "bin_end": 1150.1910000000003,
                        "count": 22
                      },
                      {
                        "bin_start": 1150.1910000000003,
                        "bin_end": 1533.5880000000002,
                        "count": 8
                      },
                      {
                        "bin_start": 1533.5880000000002,
                        "bin_end": 1916.9850000000001,
                        "count": 0
                      },
                      {
                        "bin_start": 1916.9850000000001,
                        "bin_end": 2300.3820000000005,
                        "count": 0
                      },
                      {
                        "bin_start": 2300.3820000000005,
                        "bin_end": 2683.7790000000005,
                        "count": 1
                      },
                      {
                        "bin_start": 2683.7790000000005,
                        "bin_end": 3067.1760000000004,
                        "count": 0
                      },
                      {
                        "bin_start": 3067.1760000000004,
                        "bin_end": 3450.5730000000003,
                        "count": 1
                      },
                      {
                        "bin_start": 3450.5730000000003,
                        "bin_end": 3833.9700000000003,
                        "count": 1
                      }
                    ]
                  }
                },
                {
                  "name": "_deepnote_index_column",
                  "dtype": "int64"
                }
              ],
              "rows": [
                {
                  "date_date": "2021-03-30",
                  "orders_id": 823167,
                  "customers_id": 33056,
                  "country": "FRANCE",
                  "department": "36",
                  "total_quantity": 59,
                  "total_turnover": 156.59000000000003,
                  "_deepnote_index_column": 0
                },
                {
                  "date_date": "2021-11-06",
                  "orders_id": 1035041,
                  "customers_id": 17276,
                  "country": "FRANCE",
                  "department": "48",
                  "total_quantity": 41,
                  "total_turnover": 141.38,
                  "_deepnote_index_column": 1
                },
                {
                  "date_date": "2019-03-25",
                  "orders_id": 66507,
                  "customers_id": 12328,
                  "country": "FRANCE",
                  "department": "03",
                  "total_quantity": 41,
                  "total_turnover": 103.57,
                  "_deepnote_index_column": 2
                },
                {
                  "date_date": "2020-08-13",
                  "orders_id": 545258,
                  "customers_id": 8339,
                  "country": "FRANCE",
                  "department": "89",
                  "total_quantity": 40,
                  "total_turnover": 140.44,
                  "_deepnote_index_column": 3
                },
                {
                  "date_date": "2021-01-12",
                  "orders_id": 730355,
                  "customers_id": 10476,
                  "country": "FRANCE",
                  "department": "39",
                  "total_quantity": 34,
                  "total_turnover": 208.82999999999998,
                  "_deepnote_index_column": 4
                },
                {
                  "date_date": "2019-12-18",
                  "orders_id": 302575,
                  "customers_id": 51015,
                  "country": "FRANCE",
                  "department": "41",
                  "total_quantity": 39,
                  "total_turnover": 394.59,
                  "_deepnote_index_column": 5
                },
                {
                  "date_date": "2020-04-13",
                  "orders_id": 421465,
                  "customers_id": 127741,
                  "country": "FRANCE",
                  "department": "89",
                  "total_quantity": 40,
                  "total_turnover": 134.74,
                  "_deepnote_index_column": 6
                },
                {
                  "date_date": "2020-04-28",
                  "orders_id": 432936,
                  "customers_id": 162758,
                  "country": "FRANCE",
                  "department": "79",
                  "total_quantity": 42,
                  "total_turnover": 148.85000000000002,
                  "_deepnote_index_column": 7
                },
                {
                  "date_date": "2020-12-19",
                  "orders_id": 705688,
                  "customers_id": 203487,
                  "country": "FRANCE",
                  "department": "43",
                  "total_quantity": 53,
                  "total_turnover": 146.94,
                  "_deepnote_index_column": 8
                },
                {
                  "date_date": "2020-02-28",
                  "orders_id": 364203,
                  "customers_id": 124084,
                  "country": "FRANCE",
                  "department": "39",
                  "total_quantity": 44,
                  "total_turnover": 103.05000000000001,
                  "_deepnote_index_column": 9
                }
              ]
            },
            "text/plain": "       date_date  orders_id  customers_id country department  total_quantity  \\\n0     2021-03-30     823167         33056  FRANCE         36              59   \n1     2021-11-06    1035041         17276  FRANCE         48              41   \n2     2019-03-25      66507         12328  FRANCE         03              41   \n3     2020-08-13     545258          8339  FRANCE         89              40   \n4     2021-01-12     730355         10476  FRANCE         39              34   \n...          ...        ...           ...     ...        ...             ...   \n9995  2020-02-22     357784         64583  FRANCE         95              63   \n9996  2019-03-19      61127          1664  FRANCE         95              55   \n9997  2021-04-07     833263        277424  FRANCE         95              38   \n9998  2019-11-07     257458         10524  FRANCE         95              57   \n9999  2021-10-05    1007121        114415  FRANCE         95              43   \n\n      total_turnover  \n0             156.59  \n1             141.38  \n2             103.57  \n3             140.44  \n4             208.83  \n...              ...  \n9995          174.96  \n9996          161.12  \n9997          177.24  \n9998          225.98  \n9999           64.49  \n\n[10000 rows x 7 columns]",
            "text/html": "<div>\n<style scoped>\n    .dataframe tbody tr th:only-of-type {\n        vertical-align: middle;\n    }\n\n    .dataframe tbody tr th {\n        vertical-align: top;\n    }\n\n    .dataframe thead th {\n        text-align: right;\n    }\n</style>\n<table border=\"1\" class=\"dataframe\">\n  <thead>\n    <tr style=\"text-align: right;\">\n      <th></th>\n      <th>date_date</th>\n      <th>orders_id</th>\n      <th>customers_id</th>\n      <th>country</th>\n      <th>department</th>\n      <th>total_quantity</th>\n      <th>total_turnover</th>\n    </tr>\n  </thead>\n  <tbody>\n    <tr>\n      <th>0</th>\n      <td>2021-03-30</td>\n      <td>823167</td>\n      <td>33056</td>\n      <td>FRANCE</td>\n      <td>36</td>\n      <td>59</td>\n      <td>156.59</td>\n    </tr>\n    <tr>\n      <th>1</th>\n      <td>2021-11-06</td>\n      <td>1035041</td>\n      <td>17276</td>\n      <td>FRANCE</td>\n      <td>48</td>\n      <td>41</td>\n      <td>141.38</td>\n    </tr>\n    <tr>\n      <th>2</th>\n      <td>2019-03-25</td>\n      <td>66507</td>\n      <td>12328</td>\n      <td>FRANCE</td>\n      <td>03</td>\n      <td>41</td>\n      <td>103.57</td>\n    </tr>\n    <tr>\n      <th>3</th>\n      <td>2020-08-13</td>\n      <td>545258</td>\n      <td>8339</td>\n      <td>FRANCE</td>\n      <td>89</td>\n      <td>40</td>\n      <td>140.44</td>\n    </tr>\n    <tr>\n      <th>4</th>\n      <td>2021-01-12</td>\n      <td>730355</td>\n      <td>10476</td>\n      <td>FRANCE</td>\n      <td>39</td>\n      <td>34</td>\n      <td>208.83</td>\n    </tr>\n    <tr>\n      <th>...</th>\n      <td>...</td>\n      <td>...</td>\n      <td>...</td>\n      <td>...</td>\n      <td>...</td>\n      <td>...</td>\n      <td>...</td>\n    </tr>\n    <tr>\n      <th>9995</th>\n      <td>2020-02-22</td>\n      <td>357784</td>\n      <td>64583</td>\n      <td>FRANCE</td>\n      <td>95</td>\n      <td>63</td>\n      <td>174.96</td>\n    </tr>\n    <tr>\n      <th>9996</th>\n      <td>2019-03-19</td>\n      <td>61127</td>\n      <td>1664</td>\n      <td>FRANCE</td>\n      <td>95</td>\n      <td>55</td>\n      <td>161.12</td>\n    </tr>\n    <tr>\n      <th>9997</th>\n      <td>2021-04-07</td>\n      <td>833263</td>\n      <td>277424</td>\n      <td>FRANCE</td>\n      <td>95</td>\n      <td>38</td>\n      <td>177.24</td>\n    </tr>\n    <tr>\n      <th>9998</th>\n      <td>2019-11-07</td>\n      <td>257458</td>\n      <td>10524</td>\n      <td>FRANCE</td>\n      <td>95</td>\n      <td>57</td>\n      <td>225.98</td>\n    </tr>\n    <tr>\n      <th>9999</th>\n      <td>2021-10-05</td>\n      <td>1007121</td>\n      <td>114415</td>\n      <td>FRANCE</td>\n      <td>95</td>\n      <td>43</td>\n      <td>64.49</td>\n    </tr>\n  </tbody>\n</table>\n<p>10000 rows × 7 columns</p>\n</div>"
          },
          "metadata": {}
        }
      ],
      "execution_count": 1,
      "block_group": "60a5e7b5635945c888cb6dfe4547a7f5"
    },
    {
      "cell_type": "code",
      "source": "orders_df.groupby('country').count()",
      "metadata": {
        "source_hash": "30a4fc7c",
        "execution_start": 1692447458479,
        "execution_millis": 384,
        "deepnote_app_coordinates": {
          "h": 5,
          "w": 12,
          "x": 0,
          "y": 0
        },
        "deepnote_to_be_reexecuted": false,
        "cell_id": "49f4865bd2e94c8da9fd62f77d1fd3cc",
        "deepnote_cell_type": "code"
      },
      "outputs": [
        {
          "output_type": "execute_result",
          "execution_count": 2,
          "data": {
            "application/vnd.deepnote.dataframe.v3+json": {
              "column_count": 6,
              "row_count": 1,
              "columns": [
                {
                  "name": "date_date",
                  "dtype": "int64",
                  "stats": {
                    "unique_count": 1,
                    "nan_count": 0,
                    "min": "10000",
                    "max": "10000",
                    "histogram": [
                      {
                        "bin_start": 9999.5,
                        "bin_end": 9999.6,
                        "count": 0
                      },
                      {
                        "bin_start": 9999.6,
                        "bin_end": 9999.7,
                        "count": 0
                      },
                      {
                        "bin_start": 9999.7,
                        "bin_end": 9999.8,
                        "count": 0
                      },
                      {
                        "bin_start": 9999.8,
                        "bin_end": 9999.9,
                        "count": 0
                      },
                      {
                        "bin_start": 9999.9,
                        "bin_end": 10000,
                        "count": 0
                      },
                      {
                        "bin_start": 10000,
                        "bin_end": 10000.1,
                        "count": 1
                      },
                      {
                        "bin_start": 10000.1,
                        "bin_end": 10000.2,
                        "count": 0
                      },
                      {
                        "bin_start": 10000.2,
                        "bin_end": 10000.3,
                        "count": 0
                      },
                      {
                        "bin_start": 10000.3,
                        "bin_end": 10000.4,
                        "count": 0
                      },
                      {
                        "bin_start": 10000.4,
                        "bin_end": 10000.5,
                        "count": 0
                      }
                    ]
                  }
                },
                {
                  "name": "orders_id",
                  "dtype": "int64",
                  "stats": {
                    "unique_count": 1,
                    "nan_count": 0,
                    "min": "10000",
                    "max": "10000",
                    "histogram": [
                      {
                        "bin_start": 9999.5,
                        "bin_end": 9999.6,
                        "count": 0
                      },
                      {
                        "bin_start": 9999.6,
                        "bin_end": 9999.7,
                        "count": 0
                      },
                      {
                        "bin_start": 9999.7,
                        "bin_end": 9999.8,
                        "count": 0
                      },
                      {
                        "bin_start": 9999.8,
                        "bin_end": 9999.9,
                        "count": 0
                      },
                      {
                        "bin_start": 9999.9,
                        "bin_end": 10000,
                        "count": 0
                      },
                      {
                        "bin_start": 10000,
                        "bin_end": 10000.1,
                        "count": 1
                      },
                      {
                        "bin_start": 10000.1,
                        "bin_end": 10000.2,
                        "count": 0
                      },
                      {
                        "bin_start": 10000.2,
                        "bin_end": 10000.3,
                        "count": 0
                      },
                      {
                        "bin_start": 10000.3,
                        "bin_end": 10000.4,
                        "count": 0
                      },
                      {
                        "bin_start": 10000.4,
                        "bin_end": 10000.5,
                        "count": 0
                      }
                    ]
                  }
                },
                {
                  "name": "customers_id",
                  "dtype": "int64",
                  "stats": {
                    "unique_count": 1,
                    "nan_count": 0,
                    "min": "10000",
                    "max": "10000",
                    "histogram": [
                      {
                        "bin_start": 9999.5,
                        "bin_end": 9999.6,
                        "count": 0
                      },
                      {
                        "bin_start": 9999.6,
                        "bin_end": 9999.7,
                        "count": 0
                      },
                      {
                        "bin_start": 9999.7,
                        "bin_end": 9999.8,
                        "count": 0
                      },
                      {
                        "bin_start": 9999.8,
                        "bin_end": 9999.9,
                        "count": 0
                      },
                      {
                        "bin_start": 9999.9,
                        "bin_end": 10000,
                        "count": 0
                      },
                      {
                        "bin_start": 10000,
                        "bin_end": 10000.1,
                        "count": 1
                      },
                      {
                        "bin_start": 10000.1,
                        "bin_end": 10000.2,
                        "count": 0
                      },
                      {
                        "bin_start": 10000.2,
                        "bin_end": 10000.3,
                        "count": 0
                      },
                      {
                        "bin_start": 10000.3,
                        "bin_end": 10000.4,
                        "count": 0
                      },
                      {
                        "bin_start": 10000.4,
                        "bin_end": 10000.5,
                        "count": 0
                      }
                    ]
                  }
                },
                {
                  "name": "department",
                  "dtype": "int64",
                  "stats": {
                    "unique_count": 1,
                    "nan_count": 0,
                    "min": "9990",
                    "max": "9990",
                    "histogram": [
                      {
                        "bin_start": 9989.5,
                        "bin_end": 9989.6,
                        "count": 0
                      },
                      {
                        "bin_start": 9989.6,
                        "bin_end": 9989.7,
                        "count": 0
                      },
                      {
                        "bin_start": 9989.7,
                        "bin_end": 9989.8,
                        "count": 0
                      },
                      {
                        "bin_start": 9989.8,
                        "bin_end": 9989.9,
                        "count": 0
                      },
                      {
                        "bin_start": 9989.9,
                        "bin_end": 9990,
                        "count": 0
                      },
                      {
                        "bin_start": 9990,
                        "bin_end": 9990.1,
                        "count": 1
                      },
                      {
                        "bin_start": 9990.1,
                        "bin_end": 9990.2,
                        "count": 0
                      },
                      {
                        "bin_start": 9990.2,
                        "bin_end": 9990.3,
                        "count": 0
                      },
                      {
                        "bin_start": 9990.3,
                        "bin_end": 9990.4,
                        "count": 0
                      },
                      {
                        "bin_start": 9990.4,
                        "bin_end": 9990.5,
                        "count": 0
                      }
                    ]
                  }
                },
                {
                  "name": "total_quantity",
                  "dtype": "int64",
                  "stats": {
                    "unique_count": 1,
                    "nan_count": 0,
                    "min": "10000",
                    "max": "10000",
                    "histogram": [
                      {
                        "bin_start": 9999.5,
                        "bin_end": 9999.6,
                        "count": 0
                      },
                      {
                        "bin_start": 9999.6,
                        "bin_end": 9999.7,
                        "count": 0
                      },
                      {
                        "bin_start": 9999.7,
                        "bin_end": 9999.8,
                        "count": 0
                      },
                      {
                        "bin_start": 9999.8,
                        "bin_end": 9999.9,
                        "count": 0
                      },
                      {
                        "bin_start": 9999.9,
                        "bin_end": 10000,
                        "count": 0
                      },
                      {
                        "bin_start": 10000,
                        "bin_end": 10000.1,
                        "count": 1
                      },
                      {
                        "bin_start": 10000.1,
                        "bin_end": 10000.2,
                        "count": 0
                      },
                      {
                        "bin_start": 10000.2,
                        "bin_end": 10000.3,
                        "count": 0
                      },
                      {
                        "bin_start": 10000.3,
                        "bin_end": 10000.4,
                        "count": 0
                      },
                      {
                        "bin_start": 10000.4,
                        "bin_end": 10000.5,
                        "count": 0
                      }
                    ]
                  }
                },
                {
                  "name": "total_turnover",
                  "dtype": "int64",
                  "stats": {
                    "unique_count": 1,
                    "nan_count": 0,
                    "min": "10000",
                    "max": "10000",
                    "histogram": [
                      {
                        "bin_start": 9999.5,
                        "bin_end": 9999.6,
                        "count": 0
                      },
                      {
                        "bin_start": 9999.6,
                        "bin_end": 9999.7,
                        "count": 0
                      },
                      {
                        "bin_start": 9999.7,
                        "bin_end": 9999.8,
                        "count": 0
                      },
                      {
                        "bin_start": 9999.8,
                        "bin_end": 9999.9,
                        "count": 0
                      },
                      {
                        "bin_start": 9999.9,
                        "bin_end": 10000,
                        "count": 0
                      },
                      {
                        "bin_start": 10000,
                        "bin_end": 10000.1,
                        "count": 1
                      },
                      {
                        "bin_start": 10000.1,
                        "bin_end": 10000.2,
                        "count": 0
                      },
                      {
                        "bin_start": 10000.2,
                        "bin_end": 10000.3,
                        "count": 0
                      },
                      {
                        "bin_start": 10000.3,
                        "bin_end": 10000.4,
                        "count": 0
                      },
                      {
                        "bin_start": 10000.4,
                        "bin_end": 10000.5,
                        "count": 0
                      }
                    ]
                  }
                },
                {
                  "name": "_deepnote_index_column",
                  "dtype": "object"
                }
              ],
              "rows": [
                {
                  "date_date": 10000,
                  "orders_id": 10000,
                  "customers_id": 10000,
                  "department": 9990,
                  "total_quantity": 10000,
                  "total_turnover": 10000,
                  "_deepnote_index_column": "FRANCE"
                }
              ]
            },
            "text/plain": "         date_date  orders_id  customers_id  department  total_quantity  \\\ncountry                                                                   \nFRANCE       10000      10000         10000        9990           10000   \n\n         total_turnover  \ncountry                  \nFRANCE            10000  ",
            "text/html": "<div>\n<style scoped>\n    .dataframe tbody tr th:only-of-type {\n        vertical-align: middle;\n    }\n\n    .dataframe tbody tr th {\n        vertical-align: top;\n    }\n\n    .dataframe thead th {\n        text-align: right;\n    }\n</style>\n<table border=\"1\" class=\"dataframe\">\n  <thead>\n    <tr style=\"text-align: right;\">\n      <th></th>\n      <th>date_date</th>\n      <th>orders_id</th>\n      <th>customers_id</th>\n      <th>department</th>\n      <th>total_quantity</th>\n      <th>total_turnover</th>\n    </tr>\n    <tr>\n      <th>country</th>\n      <th></th>\n      <th></th>\n      <th></th>\n      <th></th>\n      <th></th>\n      <th></th>\n    </tr>\n  </thead>\n  <tbody>\n    <tr>\n      <th>FRANCE</th>\n      <td>10000</td>\n      <td>10000</td>\n      <td>10000</td>\n      <td>9990</td>\n      <td>10000</td>\n      <td>10000</td>\n    </tr>\n  </tbody>\n</table>\n</div>"
          },
          "metadata": {}
        }
      ],
      "execution_count": 2,
      "block_group": "a53878c770a44b76b38529124d3d3215"
    },
    {
      "cell_type": "code",
      "source": "import pandas as pd",
      "metadata": {
        "source_hash": "9b82ee11",
        "execution_start": 1692447458507,
        "execution_millis": 174,
        "deepnote_app_coordinates": {
          "h": 5,
          "w": 12,
          "x": 0,
          "y": 0
        },
        "deepnote_to_be_reexecuted": false,
        "cell_id": "67c93e6c57af4aa891cf3f4ac6de6f89",
        "deepnote_cell_type": "code"
      },
      "outputs": [],
      "execution_count": 3,
      "block_group": "67c93e6c57af4aa891cf3f4ac6de6f89"
    },
    {
      "cell_type": "code",
      "source": "orders_df['date_date'] = pd.to_datetime(orders_df['date_date']).dt.date",
      "metadata": {
        "source_hash": "910a72c6",
        "execution_start": 1692447458533,
        "execution_millis": 8,
        "deepnote_app_coordinates": {
          "h": 5,
          "w": 12,
          "x": 0,
          "y": 0
        },
        "deepnote_to_be_reexecuted": false,
        "cell_id": "b8532aa08bf7439ca374e1d838bbd9a9",
        "deepnote_cell_type": "code"
      },
      "outputs": [],
      "execution_count": 4,
      "block_group": "b8532aa08bf7439ca374e1d838bbd9a9"
    },
    {
      "cell_type": "code",
      "source": "\n# Write a function def mean_value that calculates the mean value of a column\ndef mean_value(nums):\n    return nums.mean() if nums.any() else 0\n\nmean_turnover = mean_value(orders_df[\"total_turnover\"])\nmean_turnover",
      "metadata": {
        "source_hash": "6881939c",
        "execution_start": 1692447458534,
        "execution_millis": 44,
        "deepnote_app_coordinates": {
          "h": 5,
          "w": 12,
          "x": 0,
          "y": 0
        },
        "deepnote_to_be_reexecuted": false,
        "cell_id": "e5537ecba69849059d8d9e8034cf049a",
        "deepnote_cell_type": "code"
      },
      "outputs": [
        {
          "output_type": "execute_result",
          "execution_count": 5,
          "data": {
            "text/plain": "171.70362400000002"
          },
          "metadata": {}
        }
      ],
      "execution_count": 5,
      "block_group": "e5537ecba69849059d8d9e8034cf049a"
    },
    {
      "cell_type": "code",
      "source": "import pandas as pd\n\n# Calculate the mean of total_turnover using the built-in mean function\nmean_turnover2 = orders_df['total_turnover'].mean()\n\nmean_turnover2",
      "metadata": {
        "source_hash": "e671e318",
        "execution_start": 1692447458538,
        "execution_millis": 71,
        "deepnote_app_coordinates": {
          "h": 5,
          "w": 12,
          "x": 0,
          "y": 0
        },
        "deepnote_to_be_reexecuted": false,
        "cell_id": "141d699333a94ab8872b2d748e0c15ea",
        "deepnote_cell_type": "code"
      },
      "outputs": [
        {
          "output_type": "execute_result",
          "execution_count": 6,
          "data": {
            "text/plain": "171.70362400000002"
          },
          "metadata": {}
        }
      ],
      "execution_count": 6,
      "block_group": "141d699333a94ab8872b2d748e0c15ea"
    },
    {
      "cell_type": "code",
      "source": "# Compare the mean calculated with the mean_turnover2 value and output True or False\nmean_turnover == mean_turnover2",
      "metadata": {
        "source_hash": "f151d8f8",
        "execution_start": 1692447458541,
        "execution_millis": 75,
        "deepnote_app_coordinates": {
          "h": 5,
          "w": 12,
          "x": 0,
          "y": 0
        },
        "deepnote_to_be_reexecuted": false,
        "cell_id": "98d0529b7bc34cfa886c7607b68c95d1",
        "deepnote_cell_type": "code"
      },
      "outputs": [
        {
          "output_type": "execute_result",
          "execution_count": 7,
          "data": {
            "text/plain": "True"
          },
          "metadata": {}
        }
      ],
      "execution_count": 7,
      "block_group": "98d0529b7bc34cfa886c7607b68c95d1"
    },
    {
      "cell_type": "code",
      "source": "# Write a function def median_value that calculates the median value of a column\ndef median_value(nums):\n    sorted_nums = sorted(nums)\n    n = len(sorted_nums)\n    \n    if n % 2 == 1:\n        return sorted_nums[n // 2]\n    else:\n        left = sorted_nums[(n - 1) // 2]\n        right = sorted_nums[n // 2]\n        return (left + right) / 2",
      "metadata": {
        "source_hash": "99b70e25",
        "execution_start": 1692447458549,
        "execution_millis": 78,
        "deepnote_app_coordinates": {
          "h": 5,
          "w": 12,
          "x": 0,
          "y": 0
        },
        "deepnote_to_be_reexecuted": false,
        "cell_id": "e13fc85eb6544dc7ac0738d28b6822fc",
        "deepnote_cell_type": "code"
      },
      "outputs": [],
      "execution_count": 8,
      "block_group": "e13fc85eb6544dc7ac0738d28b6822fc"
    },
    {
      "cell_type": "code",
      "source": "median_turnover = median_value(orders_df[\"total_turnover\"])\nmedian_turnover",
      "metadata": {
        "source_hash": "b23790ca",
        "execution_start": 1692447458553,
        "execution_millis": 14,
        "deepnote_app_coordinates": {
          "h": 5,
          "w": 12,
          "x": 0,
          "y": 0
        },
        "deepnote_to_be_reexecuted": false,
        "cell_id": "4f00515cc9394d23855794a2d7b4199d",
        "deepnote_cell_type": "code"
      },
      "outputs": [
        {
          "output_type": "execute_result",
          "execution_count": 9,
          "data": {
            "text/plain": "153.2"
          },
          "metadata": {}
        }
      ],
      "execution_count": 9,
      "block_group": "4f00515cc9394d23855794a2d7b4199d"
    },
    {
      "cell_type": "code",
      "source": "median_turnover2 = orders_df[\"total_turnover\"].median()\nmedian_turnover2",
      "metadata": {
        "source_hash": "3868fd51",
        "execution_start": 1692447458563,
        "execution_millis": 16,
        "deepnote_app_coordinates": {
          "h": 5,
          "w": 12,
          "x": 0,
          "y": 0
        },
        "deepnote_to_be_reexecuted": false,
        "cell_id": "b03ddd9d137a4942927c047e1d18785c",
        "deepnote_cell_type": "code"
      },
      "outputs": [
        {
          "output_type": "execute_result",
          "execution_count": 10,
          "data": {
            "text/plain": "153.2"
          },
          "metadata": {}
        }
      ],
      "execution_count": 10,
      "block_group": "b03ddd9d137a4942927c047e1d18785c"
    },
    {
      "cell_type": "code",
      "source": "median_turnover == median_turnover2\n",
      "metadata": {
        "source_hash": "5a46a70a",
        "execution_start": 1692447458569,
        "execution_millis": 11,
        "deepnote_app_coordinates": {
          "h": 5,
          "w": 12,
          "x": 0,
          "y": 0
        },
        "deepnote_to_be_reexecuted": false,
        "cell_id": "7de9d101656a4899b45f5cf381e94566",
        "deepnote_cell_type": "code"
      },
      "outputs": [
        {
          "output_type": "execute_result",
          "execution_count": 11,
          "data": {
            "text/plain": "True"
          },
          "metadata": {}
        }
      ],
      "execution_count": 11,
      "block_group": "7de9d101656a4899b45f5cf381e94566"
    },
    {
      "cell_type": "code",
      "source": "def modal_value(nums):\n    return nums.mode().iloc[0] if not nums.empty else None",
      "metadata": {
        "source_hash": "aca4f088",
        "execution_start": 1692447458570,
        "execution_millis": 13,
        "deepnote_app_coordinates": {
          "h": 5,
          "w": 12,
          "x": 0,
          "y": 0
        },
        "deepnote_to_be_reexecuted": false,
        "cell_id": "c7bfa30e5855485486769e658e351006",
        "deepnote_cell_type": "code"
      },
      "outputs": [],
      "execution_count": 12,
      "block_group": "c7bfa30e5855485486769e658e351006"
    },
    {
      "cell_type": "code",
      "source": "\n\nmv1 = modal_value(orders_df[\"total_turnover\"])\nmv1",
      "metadata": {
        "source_hash": "9272d89c",
        "execution_start": 1692447458573,
        "execution_millis": 79,
        "deepnote_app_coordinates": {
          "h": 5,
          "w": 12,
          "x": 0,
          "y": 0
        },
        "deepnote_to_be_reexecuted": false,
        "cell_id": "9237f60f31884ec2b7e8fa9fb1915ac6",
        "deepnote_cell_type": "code"
      },
      "outputs": [
        {
          "output_type": "execute_result",
          "execution_count": 13,
          "data": {
            "text/plain": "0.0"
          },
          "metadata": {}
        }
      ],
      "execution_count": 13,
      "block_group": "9237f60f31884ec2b7e8fa9fb1915ac6"
    },
    {
      "cell_type": "code",
      "source": "\nmv2 = modal_value(orders_df[\"total_turnover\"])\nmv2",
      "metadata": {
        "source_hash": "116cc6c",
        "execution_start": 1692447458622,
        "execution_millis": 51,
        "deepnote_app_coordinates": {
          "h": 5,
          "w": 12,
          "x": 0,
          "y": 0
        },
        "deepnote_to_be_reexecuted": false,
        "cell_id": "271c02efda3d4e7882b85b2a90f5c284",
        "deepnote_cell_type": "code"
      },
      "outputs": [
        {
          "output_type": "execute_result",
          "execution_count": 14,
          "data": {
            "text/plain": "0.0"
          },
          "metadata": {}
        }
      ],
      "execution_count": 14,
      "block_group": "271c02efda3d4e7882b85b2a90f5c284"
    },
    {
      "cell_type": "code",
      "source": "mv1 == mv2",
      "metadata": {
        "source_hash": "69a9879a",
        "execution_start": 1692447458630,
        "execution_millis": 50,
        "deepnote_app_coordinates": {
          "h": 5,
          "w": 12,
          "x": 0,
          "y": 0
        },
        "deepnote_to_be_reexecuted": false,
        "cell_id": "d77ad628cf3d4ad6a61e601d0bc9b5d8",
        "deepnote_cell_type": "code"
      },
      "outputs": [
        {
          "output_type": "execute_result",
          "execution_count": 15,
          "data": {
            "text/plain": "True"
          },
          "metadata": {}
        }
      ],
      "execution_count": 15,
      "block_group": "d77ad628cf3d4ad6a61e601d0bc9b5d8"
    },
    {
      "cell_type": "code",
      "source": "def calculate_variance(nums):\n    return nums.var() if not nums.empty else None\n\nvariance_turnover1 = calculate_variance(orders_df[\"total_turnover\"])\nvariance_turnover1",
      "metadata": {
        "source_hash": "e204de6",
        "execution_start": 1692447458636,
        "execution_millis": 49,
        "deepnote_app_coordinates": {
          "h": 5,
          "w": 12,
          "x": 0,
          "y": 0
        },
        "deepnote_to_be_reexecuted": false,
        "cell_id": "e3bed68c871d42f7a84d4258cc264d4e",
        "deepnote_cell_type": "code"
      },
      "outputs": [
        {
          "output_type": "execute_result",
          "execution_count": 16,
          "data": {
            "text/plain": "11187.105015728197"
          },
          "metadata": {}
        }
      ],
      "execution_count": 16,
      "block_group": "e3bed68c871d42f7a84d4258cc264d4e"
    },
    {
      "cell_type": "code",
      "source": "variance_turnover2 = orders_df[\"total_turnover\"].var()\nvariance_turnover2",
      "metadata": {
        "source_hash": "ba4774b9",
        "execution_start": 1692447458644,
        "execution_millis": 44,
        "deepnote_app_coordinates": {
          "h": 5,
          "w": 12,
          "x": 0,
          "y": 0
        },
        "deepnote_to_be_reexecuted": false,
        "cell_id": "1dd303d116794d43b58c7461c9917bcc",
        "deepnote_cell_type": "code"
      },
      "outputs": [
        {
          "output_type": "execute_result",
          "execution_count": 17,
          "data": {
            "text/plain": "11187.105015728197"
          },
          "metadata": {}
        }
      ],
      "execution_count": 17,
      "block_group": "1dd303d116794d43b58c7461c9917bcc"
    },
    {
      "cell_type": "code",
      "source": "variance_turnover1 == variance_turnover2",
      "metadata": {
        "source_hash": "2ac5bf9e",
        "execution_start": 1692447458650,
        "execution_millis": 46,
        "deepnote_app_coordinates": {
          "h": 5,
          "w": 12,
          "x": 0,
          "y": 0
        },
        "deepnote_to_be_reexecuted": false,
        "cell_id": "ecb7d3e6bbe741c8b6f5fe0e5972b2b0",
        "deepnote_cell_type": "code"
      },
      "outputs": [
        {
          "output_type": "execute_result",
          "execution_count": 18,
          "data": {
            "text/plain": "True"
          },
          "metadata": {}
        }
      ],
      "execution_count": 18,
      "block_group": "ecb7d3e6bbe741c8b6f5fe0e5972b2b0"
    },
    {
      "cell_type": "code",
      "source": "def calculate_std_deviation(nums):\n    return nums.std() if not nums.empty else None\n\nstd_deviation_turnover1 = calculate_std_deviation(orders_df[\"total_turnover\"])\nstd_deviation_turnover1",
      "metadata": {
        "source_hash": "384b6386",
        "execution_start": 1692447458659,
        "execution_millis": 12,
        "deepnote_app_coordinates": {
          "h": 5,
          "w": 12,
          "x": 0,
          "y": 0
        },
        "deepnote_to_be_reexecuted": false,
        "cell_id": "eb20cf333348414cb296bea91c989369",
        "deepnote_cell_type": "code"
      },
      "outputs": [
        {
          "output_type": "execute_result",
          "execution_count": 19,
          "data": {
            "text/plain": "105.76911182253635"
          },
          "metadata": {}
        }
      ],
      "execution_count": 19,
      "block_group": "eb20cf333348414cb296bea91c989369"
    },
    {
      "cell_type": "code",
      "source": "std_deviation_turnover2 = orders_df[\"total_turnover\"].std()\nstd_deviation_turnover2",
      "metadata": {
        "source_hash": "727b7794",
        "execution_start": 1692447458664,
        "execution_millis": 12,
        "deepnote_app_coordinates": {
          "h": 5,
          "w": 12,
          "x": 0,
          "y": 0
        },
        "deepnote_to_be_reexecuted": false,
        "cell_id": "24578e7d0ad2420b9a86082b5f166b16",
        "deepnote_cell_type": "code"
      },
      "outputs": [
        {
          "output_type": "execute_result",
          "execution_count": 20,
          "data": {
            "text/plain": "105.76911182253635"
          },
          "metadata": {}
        }
      ],
      "execution_count": 20,
      "block_group": "24578e7d0ad2420b9a86082b5f166b16"
    },
    {
      "cell_type": "code",
      "source": "std_deviation_turnover1 == std_deviation_turnover2",
      "metadata": {
        "source_hash": "d56b14b4",
        "execution_start": 1692447458665,
        "execution_millis": 14,
        "deepnote_app_coordinates": {
          "h": 5,
          "w": 12,
          "x": 0,
          "y": 0
        },
        "deepnote_to_be_reexecuted": false,
        "cell_id": "cb48292bee4a4df79804351afb1df403",
        "deepnote_cell_type": "code"
      },
      "outputs": [
        {
          "output_type": "execute_result",
          "execution_count": 21,
          "data": {
            "text/plain": "True"
          },
          "metadata": {}
        }
      ],
      "execution_count": 21,
      "block_group": "cb48292bee4a4df79804351afb1df403"
    },
    {
      "cell_type": "markdown",
      "source": "<a style='text-decoration:none;line-height:16px;display:flex;color:#5B5B62;padding:10px;justify-content:end;' href='https://deepnote.com?utm_source=created-in-deepnote-cell&projectId=55378487-3b55-4ec2-918a-8cb95af39af6' target=\"_blank\">\n<img alt='Created in deepnote.com' style='display:inline;max-height:16px;margin:0px;margin-right:7.5px;' src='data:image/svg+xml;base64,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' > </img>\nCreated in <span style='font-weight:600;margin-left:4px;'>Deepnote</span></a>",
      "metadata": {
        "created_in_deepnote_cell": true,
        "deepnote_cell_type": "markdown"
      }
    }
  ],
  "nbformat": 4,
  "nbformat_minor": 0,
  "metadata": {
    "deepnote": {},
    "orig_nbformat": 2,
    "deepnote_app_layout": "powerful-article",
    "deepnote_full_width": true,
    "deepnote_notebook_id": "00d58c9391e74c17a0f272503e34b69e",
    "deepnote_execution_queue": []
  }
}